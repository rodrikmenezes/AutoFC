{
 "cells": [
  {
   "cell_type": "markdown",
   "metadata": {},
   "source": [
    "# **Realizar Fluxo de Caixa - Celesc G**"
   ]
  },
  {
   "cell_type": "markdown",
   "metadata": {},
   "source": [
    "## Instruções:\n",
    "\n",
    "1. Verificar acesso ao disco (K:)\n",
    "2. Abrir o SAP e fazer login ( a janela \"SAP Easy Access\" deve estar aberta)\n",
    "3. Certificar-se de que o usuario tem acesso a transacao FBL3N\n",
    "4. Nao mexer no computador durante o processo\n",
    "5. Configurar computador para não entrar em modo de espera"
   ]
  },
  {
   "cell_type": "markdown",
   "metadata": {},
   "source": [
    "## Parâmetros de entrada"
   ]
  },
  {
   "cell_type": "markdown",
   "metadata": {},
   "source": [
    "Carregar módulos"
   ]
  },
  {
   "cell_type": "code",
   "execution_count": 1,
   "metadata": {},
   "outputs": [],
   "source": [
    "import pyautogui\n",
    "import datetime\n",
    "import fun\n",
    "import gui"
   ]
  },
  {
   "cell_type": "markdown",
   "metadata": {},
   "source": [
    "Mensagem de início"
   ]
  },
  {
   "cell_type": "code",
   "execution_count": null,
   "metadata": {},
   "outputs": [],
   "source": [
    "pyautogui.alert('Realização do Fluxo Caixa - Celesc G')"
   ]
  },
  {
   "cell_type": "markdown",
   "metadata": {},
   "source": [
    "Dados de entrada\n",
    "> *caso a pasta do mês atual já exista, uma nova pasta é criada no diretório e os arquivos serão salvos nela*"
   ]
  },
  {
   "cell_type": "code",
   "execution_count": 8,
   "metadata": {},
   "outputs": [],
   "source": [
    "diretorio = 'K:\\\\DPCL\\\\_Comum\\\\Realização do Fluxo de Caixa\\\\Celesc G\\\\'\n",
    "empresa = 'CE03'\n",
    "data = datetime.datetime.today()\n",
    "ano = data.year\n",
    "mes = data.month - 1 \n",
    "# ano = 2024\n",
    "# mes = 1\n",
    "data_inicio, data_fim = gui.calcular_datas(mes, ano)\n",
    "pasta = f\"{ano}.{mes:02d}\"\n",
    "# novo_diretorio = gui.novo_diretorio(diretorio, pasta)\n",
    "novo_diretorio = 'K:\\\\DPCL\\\\_Comum\\Realização do Fluxo de Caixa\\\\Celesc G\\\\2024.01 (6)'"
   ]
  },
  {
   "cell_type": "markdown",
   "metadata": {},
   "source": [
    "Exibir parâmetros"
   ]
  },
  {
   "cell_type": "code",
   "execution_count": 9,
   "metadata": {},
   "outputs": [
    {
     "name": "stdout",
     "output_type": "stream",
     "text": [
      "Comp: 2024.01 \n",
      "Ini: 01.01.2024 \n",
      "Fim: 31.01.2024 \n",
      "Dir: 'K:\\DPCL\\_Comum\\Realização do Fluxo de Caixa\\Celesc G\\2024.01 (6)'\n"
     ]
    }
   ],
   "source": [
    "print(\"Comp: {} \\nIni: {} \\nFim: {} \\nDir: '{}'\".format(pasta, data_inicio, data_fim, novo_diretorio))"
   ]
  },
  {
   "cell_type": "markdown",
   "metadata": {},
   "source": [
    "Configurar tempo entre etapas"
   ]
  },
  {
   "cell_type": "code",
   "execution_count": 4,
   "metadata": {},
   "outputs": [
    {
     "data": {
      "text/plain": [
       "0.8"
      ]
     },
     "execution_count": 4,
     "metadata": {},
     "output_type": "execute_result"
    }
   ],
   "source": [
    "# Tempo padrão de execução\n",
    "tempo_inicial = pyautogui.PAUSE = 0.8\n",
    "\n",
    "# Tempo de celeridade de processos\n",
    "tempo_fim = pyautogui.PAUSE = 0.6\n",
    "\n",
    "# Tempo de espera para abrir Bancos\n",
    "tempo_bancos = 10\n",
    "\n",
    "# Tempo de espera para abrir Contrapartida Bancos\n",
    "tempo_contrap_bancos = 30\n",
    "\n",
    "# Tempo de espera para abrir Contrapartida Bancos\n",
    "tempo_compensacao = 30\n",
    "\n",
    "# Carregar tempo de execução padrão\n",
    "tempo_inicial"
   ]
  },
  {
   "cell_type": "markdown",
   "metadata": {},
   "source": [
    "## Passo 1) Razão Bancos"
   ]
  },
  {
   "cell_type": "markdown",
   "metadata": {},
   "source": [
    "Inserir transação SAP"
   ]
  },
  {
   "cell_type": "code",
   "execution_count": null,
   "metadata": {},
   "outputs": [],
   "source": [
    "gui.transacao()"
   ]
  },
  {
   "cell_type": "markdown",
   "metadata": {},
   "source": [
    "Chamar variante"
   ]
  },
  {
   "cell_type": "code",
   "execution_count": null,
   "metadata": {},
   "outputs": [],
   "source": [
    "gui.chamar_variante(tempo_inicial, tempo_fim)"
   ]
  },
  {
   "cell_type": "markdown",
   "metadata": {},
   "source": [
    "Emitir relatório no SAP"
   ]
  },
  {
   "cell_type": "code",
   "execution_count": null,
   "metadata": {},
   "outputs": [],
   "source": [
    "gui.emitir_bancos(empresa, data_inicio, data_fim, tempo_inicial, tempo_fim, tempo_bancos)"
   ]
  },
  {
   "cell_type": "markdown",
   "metadata": {},
   "source": [
    "Salvar Relatorio Bancos    "
   ]
  },
  {
   "cell_type": "code",
   "execution_count": null,
   "metadata": {},
   "outputs": [],
   "source": [
    "gui.salvar_arquivo(novo_diretorio, tempo_inicial, tempo_fim, '1 Bancos')"
   ]
  },
  {
   "cell_type": "markdown",
   "metadata": {},
   "source": [
    "## Passo 2) Contrapartida Bancos"
   ]
  },
  {
   "cell_type": "markdown",
   "metadata": {},
   "source": [
    "Inserir transação SAP"
   ]
  },
  {
   "cell_type": "code",
   "execution_count": 5,
   "metadata": {},
   "outputs": [
    {
     "name": "stdout",
     "output_type": "stream",
     "text": [
      "Transação OK!\n"
     ]
    }
   ],
   "source": [
    "gui.transacao()"
   ]
  },
  {
   "cell_type": "markdown",
   "metadata": {},
   "source": [
    "Chamar variante"
   ]
  },
  {
   "cell_type": "code",
   "execution_count": 6,
   "metadata": {},
   "outputs": [
    {
     "name": "stdout",
     "output_type": "stream",
     "text": [
      "Variante OK!\n"
     ]
    }
   ],
   "source": [
    "gui.chamar_variante(tempo_inicial, tempo_fim)"
   ]
  },
  {
   "cell_type": "markdown",
   "metadata": {},
   "source": [
    "Emitir relatório no SAP"
   ]
  },
  {
   "cell_type": "code",
   "execution_count": 10,
   "metadata": {},
   "outputs": [
    {
     "name": "stdout",
     "output_type": "stream",
     "text": [
      "Copia OK!\n",
      "Contrapartida Bancos OK!\n"
     ]
    }
   ],
   "source": [
    "gui.emitir_contrapartida_bancos(empresa, data_inicio, data_fim, novo_diretorio, tempo_inicial, tempo_fim, tempo_contrap_bancos)"
   ]
  },
  {
   "cell_type": "markdown",
   "metadata": {},
   "source": [
    "Salvar Relatorio Bancos    "
   ]
  },
  {
   "cell_type": "code",
   "execution_count": null,
   "metadata": {},
   "outputs": [],
   "source": [
    "gui.salvar_arquivo(novo_diretorio, tempo_inicial, tempo_fim, '2 Contrapartida Bancos')"
   ]
  },
  {
   "cell_type": "markdown",
   "metadata": {},
   "source": [
    "Check: Contrapartida Bancos = Bancos"
   ]
  },
  {
   "cell_type": "code",
   "execution_count": null,
   "metadata": {},
   "outputs": [],
   "source": [
    "fun.check_contrapatida_bancos(novo_diretorio)"
   ]
  },
  {
   "cell_type": "markdown",
   "metadata": {},
   "source": [
    "## Passo 3) Compensação"
   ]
  },
  {
   "cell_type": "markdown",
   "metadata": {},
   "source": [
    "Inserir transação SAP"
   ]
  },
  {
   "cell_type": "code",
   "execution_count": null,
   "metadata": {},
   "outputs": [],
   "source": [
    "gui.transacao()"
   ]
  },
  {
   "cell_type": "markdown",
   "metadata": {},
   "source": [
    "Chamar variante"
   ]
  },
  {
   "cell_type": "code",
   "execution_count": null,
   "metadata": {},
   "outputs": [],
   "source": [
    "gui.chamar_variante(tempo_inicial, tempo_fim)"
   ]
  },
  {
   "cell_type": "markdown",
   "metadata": {},
   "source": [
    "Emitir relatório no SAP"
   ]
  },
  {
   "cell_type": "code",
   "execution_count": null,
   "metadata": {},
   "outputs": [],
   "source": [
    "gui.emitir_compensacao(empresa, data_inicio, data_fim, novo_diretorio, tempo_inicial, tempo_fim, tempo_compensacao)"
   ]
  },
  {
   "cell_type": "markdown",
   "metadata": {},
   "source": [
    "Salvar Relatorio Bancos    "
   ]
  },
  {
   "cell_type": "code",
   "execution_count": null,
   "metadata": {},
   "outputs": [],
   "source": [
    "gui.salvar_arquivo(novo_diretorio, tempo_inicial, tempo_fim, '3 Compensação')"
   ]
  },
  {
   "cell_type": "markdown",
   "metadata": {},
   "source": [
    "Ajuste Compensação"
   ]
  }
 ],
 "metadata": {
  "kernelspec": {
   "display_name": "av",
   "language": "python",
   "name": "python3"
  },
  "language_info": {
   "codemirror_mode": {
    "name": "ipython",
    "version": 3
   },
   "file_extension": ".py",
   "mimetype": "text/x-python",
   "name": "python",
   "nbconvert_exporter": "python",
   "pygments_lexer": "ipython3",
   "version": "3.11.5"
  }
 },
 "nbformat": 4,
 "nbformat_minor": 2
}
