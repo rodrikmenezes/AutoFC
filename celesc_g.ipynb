{
 "cells": [
  {
   "cell_type": "markdown",
   "metadata": {},
   "source": [
    "# **Realizar Fluxo de Caixa - Celesc G**"
   ]
  },
  {
   "cell_type": "markdown",
   "metadata": {},
   "source": [
    "## Instruções:\n",
    "\n",
    "1. Verificar acesso ao disco (K:)\n",
    "2. Abrir o SAP e fazer login\n",
    "3. Certificar-se de que o usuario tem acesso a transacao FBL3N\n",
    "4. Nao mexer no computador durante o processo\n",
    "5. Configurar computador para não entrar em modo de espera"
   ]
  },
  {
   "cell_type": "markdown",
   "metadata": {},
   "source": [
    "## Parâmetros de entrada"
   ]
  },
  {
   "cell_type": "markdown",
   "metadata": {},
   "source": [
    "Carregar módulos"
   ]
  },
  {
   "cell_type": "code",
   "execution_count": 10,
   "metadata": {},
   "outputs": [],
   "source": [
    "import pyautogui\n",
    "import datetime\n",
    "import fun\n",
    "import gui"
   ]
  },
  {
   "cell_type": "markdown",
   "metadata": {},
   "source": [
    "Mensagem de início"
   ]
  },
  {
   "cell_type": "code",
   "execution_count": null,
   "metadata": {},
   "outputs": [],
   "source": [
    "pyautogui.alert('Realização do Fluxo Caixa - Celesc G')"
   ]
  },
  {
   "cell_type": "markdown",
   "metadata": {},
   "source": [
    "Dados de entrada"
   ]
  },
  {
   "cell_type": "code",
   "execution_count": null,
   "metadata": {},
   "outputs": [],
   "source": [
    "diretorio = 'K:\\\\DPCL\\\\_Comum\\\\Realização do Fluxo de Caixa\\\\Celesc G\\\\'\n",
    "empresa = 'CE03'"
   ]
  },
  {
   "cell_type": "markdown",
   "metadata": {},
   "source": [
    "Inputs"
   ]
  },
  {
   "cell_type": "code",
   "execution_count": 12,
   "metadata": {},
   "outputs": [
    {
     "name": "stdout",
     "output_type": "stream",
     "text": [
      "mes: 12 \n",
      "ano: 2023 \n",
      "diretório: 'K:\\DPCL\\_Comum\\Realização do Fluxo de Caixa\\Celesc G\\2023.12 (2)'\n"
     ]
    }
   ],
   "source": [
    "data = datetime.datetime.today()\n",
    "# ano = data.year\n",
    "# mes = data.month\n",
    "ano = 2023\n",
    "mes = 12\n",
    "data_inicio, data_fim = fun.calcular_datas(mes, ano)\n",
    "pasta = str(ano) + '.' + str(mes)\n",
    "novo_diretorio = fun.criar_diretorio(diretorio, pasta)\n",
    "\n",
    "# Exibir inputs\n",
    "print(\"mes: {} \\nano: {} \\ndiretório: '{}'\".format(mes, ano, novo_diretorio))"
   ]
  },
  {
   "cell_type": "markdown",
   "metadata": {},
   "source": [
    "Configurar tempo entre etapas"
   ]
  },
  {
   "cell_type": "code",
   "execution_count": null,
   "metadata": {},
   "outputs": [],
   "source": [
    "pyautogui.PAUSE = 0.5"
   ]
  },
  {
   "cell_type": "markdown",
   "metadata": {},
   "source": [
    "Inserir transação SAP"
   ]
  },
  {
   "cell_type": "code",
   "execution_count": null,
   "metadata": {},
   "outputs": [],
   "source": [
    "gui.transacao()"
   ]
  },
  {
   "cell_type": "markdown",
   "metadata": {},
   "source": [
    "## Passo 1) Razão Bancos"
   ]
  },
  {
   "cell_type": "markdown",
   "metadata": {},
   "source": [
    "Chamar variante"
   ]
  },
  {
   "cell_type": "code",
   "execution_count": null,
   "metadata": {},
   "outputs": [],
   "source": [
    "gui.chamar_variante()"
   ]
  },
  {
   "cell_type": "markdown",
   "metadata": {},
   "source": [
    "Emitir relatório no SAP"
   ]
  },
  {
   "cell_type": "code",
   "execution_count": null,
   "metadata": {},
   "outputs": [],
   "source": [
    "gui.emitir_bancos(empresa, data_inicio, data_fim)"
   ]
  },
  {
   "cell_type": "markdown",
   "metadata": {},
   "source": [
    "Salvar Relatorio Bancos    \n",
    "> *caso a pasta do mês atual já exista, uma nova pasta é criada no diretório e os arquivos serão salvos*"
   ]
  },
  {
   "cell_type": "code",
   "execution_count": null,
   "metadata": {},
   "outputs": [],
   "source": [
    "fun.salvar_arquivo(novo_diretorio, '1 Bancos')"
   ]
  }
 ],
 "metadata": {
  "kernelspec": {
   "display_name": "av",
   "language": "python",
   "name": "python3"
  },
  "language_info": {
   "codemirror_mode": {
    "name": "ipython",
    "version": 3
   },
   "file_extension": ".py",
   "mimetype": "text/x-python",
   "name": "python",
   "nbconvert_exporter": "python",
   "pygments_lexer": "ipython3",
   "version": "3.11.5"
  }
 },
 "nbformat": 4,
 "nbformat_minor": 2
}
